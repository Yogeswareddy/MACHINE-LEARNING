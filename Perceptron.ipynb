{
  "nbformat": 4,
  "nbformat_minor": 0,
  "metadata": {
    "colab": {
      "private_outputs": true,
      "provenance": []
    },
    "kernelspec": {
      "name": "python3",
      "display_name": "Python 3"
    },
    "language_info": {
      "name": "python"
    }
  },
  "cells": [
    {
      "cell_type": "markdown",
      "metadata": {
        "id": "ZPSs2m7cdDTB"
      },
      "source": [
        "**Binary Classification using Perceptron**"
      ]
    },
    {
      "cell_type": "code",
      "source": [
        "import numpy as np\n",
        "import matplotlib.pyplot as plt\n",
        "from sklearn.datasets import make_blobs\n",
        "from sklearn.model_selection import train_test_split\n",
        "np.random.seed(123)\n",
        "\n",
        "%matplotlib inline"
      ],
      "metadata": {
        "id": "AO8HjjwE7ZDE"
      },
      "execution_count": null,
      "outputs": []
    },
    {
      "cell_type": "code",
      "source": [
        "X, y = make_blobs(n_samples=1000, centers=2)\n",
        "fig = plt.figure(figsize=(8,6))\n",
        "plt.scatter(X[:,0], X[:,1], c=y)\n",
        "plt.title(\"Dataset\")\n",
        "plt.xlabel(\"First feature\")\n",
        "plt.ylabel(\"Second feature\")\n",
        "plt.show()"
      ],
      "metadata": {
        "id": "aA8AHWrm7sjh"
      },
      "execution_count": null,
      "outputs": []
    },
    {
      "cell_type": "code",
      "source": [
        "y_true = y[:, np.newaxis]\n",
        "\n",
        "X_train, X_test, y_train, y_test = train_test_split(X, y_true)\n",
        "print(f'Shape X_train: {X_train.shape}')\n",
        "print(f'Shape y_train: {y_train.shape})')\n",
        "print(f'Shape X_test: {X_test.shape}')\n",
        "print(f'Shape y_test: {y_test.shape}')"
      ],
      "metadata": {
        "id": "I_F3U3Fd72QO"
      },
      "execution_count": null,
      "outputs": []
    },
    {
      "cell_type": "code",
      "source": [
        "class Perceptron():\n",
        "\n",
        "    def __init__(self):\n",
        "        pass\n",
        "\n",
        "    def train(self, X, y, learning_rate=0.05, n_iters=100):\n",
        "        n_samples, n_features = X.shape\n",
        "\n",
        "        # Step 0: Initialize the parameters\n",
        "        self.weights = np.zeros((n_features,1))\n",
        "        self.bias = 0\n",
        "\n",
        "        for i in range(n_iters):\n",
        "            # Step 1: Compute the activation\n",
        "            a = np.dot(X, self.weights) + self.bias\n",
        "\n",
        "            # Step 2: Compute the output\n",
        "            y_predict = self.step_function(a)\n",
        "\n",
        "            # Step 3: Compute weight updates\n",
        "            delta_w = learning_rate * np.dot(X.T, (y - y_predict))\n",
        "            delta_b = learning_rate * np.sum(y - y_predict)\n",
        "\n",
        "            # Step 4: Update the parameters\n",
        "            self.weights += delta_w\n",
        "            self.bias += delta_b\n",
        "\n",
        "        return self.weights, self.bias\n",
        "\n",
        "    def step_function(self, x):\n",
        "        return np.array([1 if elem >= 0 else 0 for elem in x])[:, np.newaxis]\n",
        "\n",
        "    def predict(self, X):\n",
        "        a = np.dot(X, self.weights) + self.bias\n",
        "        return self.step_function(a)"
      ],
      "metadata": {
        "id": "288nxko08KM3"
      },
      "execution_count": null,
      "outputs": []
    },
    {
      "cell_type": "code",
      "source": [
        "p = Perceptron()\n",
        "w_trained, b_trained = p.train(X_train, y_train,learning_rate=0.05, n_iters=500)"
      ],
      "metadata": {
        "id": "quodnLQP8UJR"
      },
      "execution_count": null,
      "outputs": []
    },
    {
      "cell_type": "code",
      "source": [
        "y_p_train = p.predict(X_train)\n",
        "y_p_test = p.predict(X_test)\n",
        "\n",
        "print(f\"training accuracy: {100 - np.mean(np.abs(y_p_train - y_train)) * 100}%\")\n",
        "print(f\"test accuracy: {100 - np.mean(np.abs(y_p_test - y_test)) * 100}%\")"
      ],
      "metadata": {
        "id": "RBzIC0Re8YBf"
      },
      "execution_count": null,
      "outputs": []
    },
    {
      "cell_type": "code",
      "source": [
        "def plot_hyperplane(X, y, weights, bias):\n",
        "    \"\"\"\n",
        "    Plots the dataset and the estimated decision hyperplane\n",
        "    \"\"\"\n",
        "    slope = - weights[0]/weights[1]\n",
        "    intercept = - bias/weights[1]\n",
        "    x_hyperplane = np.linspace(-10,10,10)\n",
        "    y_hyperplane = slope * x_hyperplane + intercept\n",
        "    fig = plt.figure(figsize=(8,6))\n",
        "    plt.scatter(X[:,0], X[:,1], c=y)\n",
        "    plt.plot(x_hyperplane, y_hyperplane, '-')\n",
        "    plt.title(\"Dataset and fitted decision hyperplane\")\n",
        "    plt.xlabel(\"First feature\")\n",
        "    plt.ylabel(\"Second feature\")\n",
        "    plt.show()"
      ],
      "metadata": {
        "id": "0uwBOupS8wIB"
      },
      "execution_count": null,
      "outputs": []
    },
    {
      "cell_type": "code",
      "source": [
        "plot_hyperplane(X, y, w_trained, b_trained)"
      ],
      "metadata": {
        "id": "wWn11TUn8x-N"
      },
      "execution_count": null,
      "outputs": []
    },
    {
      "cell_type": "markdown",
      "source": [
        "**Multi-layer Perceptron**"
      ],
      "metadata": {
        "id": "WH8M3mLS7b8y"
      }
    },
    {
      "cell_type": "code",
      "metadata": {
        "id": "mb3nQpApdAzN"
      },
      "source": [
        "## Import required libraries\n",
        "\n",
        "import pandas as pd\n",
        "import numpy as np \n",
        "import matplotlib.pyplot as plt\n",
        "import sklearn\n",
        "\n",
        "from sklearn.neural_network import MLPClassifier\n",
        "from sklearn.model_selection import train_test_split"
      ],
      "execution_count": null,
      "outputs": []
    },
    {
      "cell_type": "code",
      "metadata": {
        "id": "ZTh8mfVgCi7A"
      },
      "source": [
        "diabdata = pd.read_csv(\"/content/drive/MyDrive/Datasets/diabetes.csv\")\n",
        "print(diabdata.shape)\n",
        "diabdata.describe().transpose()"
      ],
      "execution_count": null,
      "outputs": []
    },
    {
      "cell_type": "code",
      "source": [
        "from google.colab import drive\n",
        "drive.mount('/content/drive')"
      ],
      "metadata": {
        "id": "zJ0hj0gNsWv2"
      },
      "execution_count": null,
      "outputs": []
    },
    {
      "cell_type": "code",
      "metadata": {
        "id": "4O6H01PWHISH"
      },
      "source": [
        "## Create Arrays for features and response variables\n",
        "\n",
        "target_column = ['Outcome'] \n",
        "predictors = list(set(list(diabdata.columns))-set(target_column))\n",
        "diabdata[predictors] = diabdata[predictors]/diabdata[predictors].max()\n",
        "diabdata.describe().transpose()"
      ],
      "execution_count": null,
      "outputs": []
    },
    {
      "cell_type": "code",
      "metadata": {
        "id": "HYIogfSOHhex"
      },
      "source": [
        "## Creating Training and Test Datasets\n",
        "\n",
        "X = diabdata[predictors].values\n",
        "y = diabdata[target_column].values\n",
        "\n",
        "X_train, X_test, y_train, y_test = train_test_split(X, y, test_size=0.30, random_state=40)\n",
        "print(X_train.shape); print(X_test.shape)"
      ],
      "execution_count": null,
      "outputs": []
    },
    {
      "cell_type": "code",
      "metadata": {
        "id": "gCEffBDNHzX_"
      },
      "source": [
        "## Building NN Model\n",
        "\n",
        "from sklearn.neural_network import MLPClassifier\n",
        "\n",
        "## activation : {‘identity’, ‘logistic’, ‘tanh’, ‘relu’}, default=’relu’\n",
        "## solver : {‘lbfgs’, ‘sgd’, ‘adam’}, default=’adam’\n",
        "\n",
        "mlp = MLPClassifier(hidden_layer_sizes=(8,8,8), activation='relu', solver='adam', max_iter=500) # Variations w.r.to parameters can be tried.\n",
        "mlp.fit(X_train,y_train)\n",
        "\n",
        "predict_train = mlp.predict(X_train)\n",
        "predict_test = mlp.predict(X_test)"
      ],
      "execution_count": null,
      "outputs": []
    },
    {
      "cell_type": "code",
      "metadata": {
        "id": "7kOgAu-dIF4A"
      },
      "source": [
        "# Model with Training Data\n",
        "from sklearn.metrics import classification_report,confusion_matrix\n",
        "print(confusion_matrix(y_train,predict_train))\n",
        "print(classification_report(y_train,predict_train))"
      ],
      "execution_count": null,
      "outputs": []
    },
    {
      "cell_type": "code",
      "metadata": {
        "id": "Y0Kt-JMPILGB"
      },
      "source": [
        "# Model's Performance with test data\n",
        "print(confusion_matrix(y_test,predict_test))\n",
        "print(classification_report(y_test,predict_test))"
      ],
      "execution_count": null,
      "outputs": []
    }
  ]
}